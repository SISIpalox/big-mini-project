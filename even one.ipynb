{
 "cells": [
  {
   "cell_type": "code",
   "execution_count": 5,
   "id": "dafbfa3b-c32e-45f1-82ff-5f84ea048af6",
   "metadata": {
    "tags": []
   },
   "outputs": [
    {
     "data": {
      "text/plain": [
       "{2: 4,\n",
       " 4: 10,\n",
       " 6: 17,\n",
       " 8: 23,\n",
       " 10: 29,\n",
       " 12: 36,\n",
       " 14: 42,\n",
       " 16: 48,\n",
       " 18: 55,\n",
       " 20: 61,\n",
       " 22: 68,\n",
       " 24: 74,\n",
       " 26: 80,\n",
       " 28: 87,\n",
       " 30: 93,\n",
       " 32: 100,\n",
       " 34: 106,\n",
       " 36: 112,\n",
       " 38: 119,\n",
       " 40: 125,\n",
       " 42: 131,\n",
       " 44: 138,\n",
       " 46: 144,\n",
       " 48: 151}"
      ]
     },
     "execution_count": 5,
     "metadata": {},
     "output_type": "execute_result"
    }
   ],
   "source": [
    "def find_sequence_length_greater_than_half(x):\n",
    "    # Check if x is an even number\n",
    "    if x % 2 != 0:\n",
    "        return None, \"x must be an even number.\"\n",
    "    \n",
    "    # Initialize variables\n",
    "    total = 0\n",
    "    n = 0  # We will increment n starting from 0\n",
    "\n",
    "    # Loop to find when the sum of the sequence exceeds 1/2\n",
    "    while total <= 1:\n",
    "        total += 1 / (x + 2 * n)\n",
    "        n += 1  # Move to the next term in the sequence\n",
    "\n",
    "    # We return n - 1 because n was incremented after the sum exceeded 1/2\n",
    "    return n \n",
    "\n",
    "# Example: Calculate the length of the sequence for different even x values\n",
    "sequence_lengths = {}\n",
    "for x in range(2, 50, 2):  # Test for x from 2 to 20, only even numbers\n",
    "    sequence_lengths[x] = find_sequence_length_greater_than_half(x)\n",
    "\n",
    "sequence_lengths\n"
   ]
  },
  {
   "cell_type": "code",
   "execution_count": null,
   "id": "8038a5f1-d7f8-41da-9817-8b3ed4d9e22b",
   "metadata": {},
   "outputs": [],
   "source": []
  },
  {
   "cell_type": "code",
   "execution_count": null,
   "id": "2fba9891-541e-4e95-8425-6fc39a929d60",
   "metadata": {},
   "outputs": [],
   "source": []
  }
 ],
 "metadata": {
  "kernelspec": {
   "display_name": "Python 3 (ipykernel)",
   "language": "python",
   "name": "python3"
  },
  "language_info": {
   "codemirror_mode": {
    "name": "ipython",
    "version": 3
   },
   "file_extension": ".py",
   "mimetype": "text/x-python",
   "name": "python",
   "nbconvert_exporter": "python",
   "pygments_lexer": "ipython3",
   "version": "3.11.5"
  }
 },
 "nbformat": 4,
 "nbformat_minor": 5
}
