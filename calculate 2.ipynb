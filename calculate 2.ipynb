{
 "cells": [
  {
   "cell_type": "code",
   "execution_count": 4,
   "id": "65d72267-bc12-47fd-90a1-e231d29314d5",
   "metadata": {
    "tags": []
   },
   "outputs": [
    {
     "data": {
      "text/plain": [
       "[0,\n",
       " 0.25,\n",
       " 0.375,\n",
       " 0.4375,\n",
       " 0.46875,\n",
       " 0.484375,\n",
       " 0.4921875,\n",
       " 0.49609375,\n",
       " 0.498046875,\n",
       " 0.4990234375,\n",
       " 0.49951171875,\n",
       " 0.499755859375,\n",
       " 0.4998779296875,\n",
       " 0.49993896484375,\n",
       " 0.499969482421875,\n",
       " 0.4999847412109375,\n",
       " 0.49999237060546875,\n",
       " 0.4999961853027344,\n",
       " 0.4999980926513672,\n",
       " 0.4999990463256836,\n",
       " 0.4999995231628418,\n",
       " 0.4999997615814209,\n",
       " 0.49999988079071045,\n",
       " 0.4999999403953552,\n",
       " 0.4999999701976776,\n",
       " 0.4999999850988388,\n",
       " 0.4999999925494194,\n",
       " 0.4999999962747097,\n",
       " 0.49999999813735485,\n",
       " 0.4999999990686774,\n",
       " 0.4999999995343387,\n",
       " 0.49999999976716936,\n",
       " 0.4999999998835847,\n",
       " 0.49999999994179234,\n",
       " 0.49999999997089617,\n",
       " 0.4999999999854481,\n",
       " 0.49999999999272404,\n",
       " 0.499999999996362,\n",
       " 0.499999999998181,\n",
       " 0.4999999999990905,\n",
       " 0.49999999999954525,\n",
       " 0.4999999999997726,\n",
       " 0.4999999999998863,\n",
       " 0.49999999999994316,\n",
       " 0.4999999999999716,\n",
       " 0.4999999999999858,\n",
       " 0.4999999999999929,\n",
       " 0.49999999999999645,\n",
       " 0.4999999999999982,\n",
       " 0.4999999999999991,\n",
       " 0.49999999999999956,\n",
       " 0.4999999999999998,\n",
       " 0.4999999999999999,\n",
       " 0.49999999999999994,\n",
       " 0.5,\n",
       " 0.5,\n",
       " 0.5,\n",
       " 0.5,\n",
       " 0.5,\n",
       " 0.5,\n",
       " 0.5]"
      ]
     },
     "execution_count": 4,
     "metadata": {},
     "output_type": "execute_result"
    }
   ],
   "source": [
    "# Define a function to calculate the sequence x(n+1) = (xn + 1/2)/2\n",
    "def calculate_sequence(n):\n",
    "    x = [0]  # Initial value x0 = 0\n",
    "\n",
    "    # Calculate the sequence up to xn\n",
    "    for i in range(n):\n",
    "        x_new = (x[-1] + 1/2) / 2\n",
    "        x.append(x_new)\n",
    "\n",
    "    return x\n",
    "\n",
    "# Calculate the sequence up to x60 as an example\n",
    "sequence_values = calculate_sequence(60)\n",
    "sequence_values\n"
   ]
  },
  {
   "cell_type": "code",
   "execution_count": null,
   "id": "10db92c3-11f5-452b-89ef-016bfdc3cd30",
   "metadata": {},
   "outputs": [],
   "source": []
  },
  {
   "cell_type": "code",
   "execution_count": null,
   "id": "67aaf341-55a2-4089-ab41-79b57e9a9143",
   "metadata": {},
   "outputs": [],
   "source": []
  }
 ],
 "metadata": {
  "kernelspec": {
   "display_name": "Python 3 (ipykernel)",
   "language": "python",
   "name": "python3"
  },
  "language_info": {
   "codemirror_mode": {
    "name": "ipython",
    "version": 3
   },
   "file_extension": ".py",
   "mimetype": "text/x-python",
   "name": "python",
   "nbconvert_exporter": "python",
   "pygments_lexer": "ipython3",
   "version": "3.11.5"
  }
 },
 "nbformat": 4,
 "nbformat_minor": 5
}
