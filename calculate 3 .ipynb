{
 "cells": [
  {
   "cell_type": "code",
   "execution_count": 4,
   "id": "4fe18433-5539-4231-b2f7-f372291d8c6f",
   "metadata": {
    "tags": []
   },
   "outputs": [
    {
     "data": {
      "text/plain": [
       "[0,\n",
       " 0.16666666666666666,\n",
       " 0.2222222222222222,\n",
       " 0.24074074074074073,\n",
       " 0.24691358024691357,\n",
       " 0.24897119341563786,\n",
       " 0.2496570644718793,\n",
       " 0.2498856881572931,\n",
       " 0.24996189605243102,\n",
       " 0.24998729868414368,\n",
       " 0.2499957662280479,\n",
       " 0.24999858874268263,\n",
       " 0.24999952958089422,\n",
       " 0.24999984319363142,\n",
       " 0.24999994773121048,\n",
       " 0.24999998257707015,\n",
       " 0.24999999419235672,\n",
       " 0.2499999980641189,\n",
       " 0.2499999993547063,\n",
       " 0.2499999997849021,\n",
       " 0.2499999999283007,\n",
       " 0.24999999997610023,\n",
       " 0.2499999999920334,\n",
       " 0.24999999999734446,\n",
       " 0.24999999999911482,\n",
       " 0.24999999999970493,\n",
       " 0.24999999999990163,\n",
       " 0.24999999999996722,\n",
       " 0.2499999999999891,\n",
       " 0.24999999999999636,\n",
       " 0.24999999999999878,\n",
       " 0.24999999999999958,\n",
       " 0.24999999999999986,\n",
       " 0.24999999999999997,\n",
       " 0.25,\n",
       " 0.25,\n",
       " 0.25,\n",
       " 0.25,\n",
       " 0.25,\n",
       " 0.25,\n",
       " 0.25]"
      ]
     },
     "execution_count": 4,
     "metadata": {},
     "output_type": "execute_result"
    }
   ],
   "source": [
    "# Define a function to calculate the sequence x(n+1) = (xn + 1/2)/3\n",
    "def calculate_sequence(n):\n",
    "    x = [0]  # Initial value x0 = 0\n",
    "\n",
    "    # Calculate the sequence up to xn\n",
    "    for i in range(n):\n",
    "        x_new = (x[-1] + 1/2) / 3\n",
    "        x.append(x_new)\n",
    "\n",
    "    return x\n",
    "\n",
    "# Calculate the sequence up to x40 as an example\n",
    "sequence_values = calculate_sequence(40)\n",
    "sequence_values\n"
   ]
  },
  {
   "cell_type": "code",
   "execution_count": null,
   "id": "de46a376-aa48-401e-9f22-9d7ac5dec18b",
   "metadata": {},
   "outputs": [],
   "source": []
  },
  {
   "cell_type": "code",
   "execution_count": null,
   "id": "c587da0b-e6f8-400d-853d-bb5b300578ea",
   "metadata": {},
   "outputs": [],
   "source": []
  }
 ],
 "metadata": {
  "kernelspec": {
   "display_name": "Python 3 (ipykernel)",
   "language": "python",
   "name": "python3"
  },
  "language_info": {
   "codemirror_mode": {
    "name": "ipython",
    "version": 3
   },
   "file_extension": ".py",
   "mimetype": "text/x-python",
   "name": "python",
   "nbconvert_exporter": "python",
   "pygments_lexer": "ipython3",
   "version": "3.11.5"
  }
 },
 "nbformat": 4,
 "nbformat_minor": 5
}
