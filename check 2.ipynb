{
 "cells": [
  {
   "cell_type": "code",
   "execution_count": 2,
   "id": "cba2334c-f108-49cc-aeff-ddd8f9b8d98e",
   "metadata": {
    "tags": []
   },
   "outputs": [
    {
     "data": {
      "text/plain": [
       "[0.16666666666666666,\n",
       " 0.3333333333333333,\n",
       " 0.41666666666666663,\n",
       " 0.4583333333333333,\n",
       " 0.47916666666666663,\n",
       " 0.4895833333333333,\n",
       " 0.49479166666666663,\n",
       " 0.4973958333333333,\n",
       " 0.49869791666666663,\n",
       " 0.4993489583333333,\n",
       " 0.49967447916666663,\n",
       " 0.4998372395833333,\n",
       " 0.49991861979166663,\n",
       " 0.4999593098958333,\n",
       " 0.49997965494791663,\n",
       " 0.4999898274739583,\n",
       " 0.49999491373697913,\n",
       " 0.49999745686848956,\n",
       " 0.49999872843424475,\n",
       " 0.4999993642171224,\n",
       " 0.49999968210856116,\n",
       " 0.4999998410542806,\n",
       " 0.49999992052714026,\n",
       " 0.49999996026357013,\n",
       " 0.49999998013178504,\n",
       " 0.4999999900658925,\n",
       " 0.49999999503294623,\n",
       " 0.4999999975164731,\n",
       " 0.49999999875823653,\n",
       " 0.49999999937911827,\n",
       " 0.4999999996895591,\n",
       " 0.49999999984477955,\n",
       " 0.49999999992238975,\n",
       " 0.4999999999611949,\n",
       " 0.4999999999805974,\n",
       " 0.4999999999902987,\n",
       " 0.4999999999951493,\n",
       " 0.49999999999757466,\n",
       " 0.4999999999987873,\n",
       " 0.49999999999939365,\n",
       " 0.4999999999996968,\n",
       " 0.4999999999998484,\n",
       " 0.49999999999992417,\n",
       " 0.4999999999999621,\n",
       " 0.499999999999981,\n",
       " 0.4999999999999905,\n",
       " 0.4999999999999952,\n",
       " 0.4999999999999976,\n",
       " 0.4999999999999988,\n",
       " 0.4999999999999994,\n",
       " 0.49999999999999967,\n",
       " 0.49999999999999983,\n",
       " 0.4999999999999999,\n",
       " 0.49999999999999994,\n",
       " 0.5,\n",
       " 0.5,\n",
       " 0.5,\n",
       " 0.5,\n",
       " 0.5,\n",
       " 0.5,\n",
       " 0.5]"
      ]
     },
     "execution_count": 2,
     "metadata": {},
     "output_type": "execute_result"
    }
   ],
   "source": [
    "# Define a function to calculate the sequence x(n+1) = (xn + 1/2)/2\n",
    "def calculate_sequence(n):\n",
    "    x = [1/6]  # Initial value x0 = 1/6\n",
    "\n",
    "    # Calculate the sequence up to xn\n",
    "    for i in range(n):\n",
    "        x_new = (x[-1] + 1/2) / 2\n",
    "        x.append(x_new)\n",
    "\n",
    "    return x\n",
    "\n",
    "# Calculate the sequence up to x60 as an example\n",
    "sequence_values = calculate_sequence(60)\n",
    "sequence_values\n"
   ]
  },
  {
   "cell_type": "code",
   "execution_count": null,
   "id": "b5d7f9fa-1046-4a59-ba94-fb39ec557b98",
   "metadata": {},
   "outputs": [],
   "source": []
  },
  {
   "cell_type": "code",
   "execution_count": null,
   "id": "34a45255-29b8-4680-8bd6-8a864954f75f",
   "metadata": {},
   "outputs": [],
   "source": []
  }
 ],
 "metadata": {
  "kernelspec": {
   "display_name": "Python 3 (ipykernel)",
   "language": "python",
   "name": "python3"
  },
  "language_info": {
   "codemirror_mode": {
    "name": "ipython",
    "version": 3
   },
   "file_extension": ".py",
   "mimetype": "text/x-python",
   "name": "python",
   "nbconvert_exporter": "python",
   "pygments_lexer": "ipython3",
   "version": "3.11.5"
  }
 },
 "nbformat": 4,
 "nbformat_minor": 5
}
