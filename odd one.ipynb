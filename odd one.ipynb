{
 "cells": [
  {
   "cell_type": "code",
   "execution_count": 4,
   "id": "8068e2cf-b47f-43ce-9232-72139c0036c5",
   "metadata": {
    "tags": []
   },
   "outputs": [
    {
     "data": {
      "text/plain": [
       "{1: 2,\n",
       " 3: 7,\n",
       " 5: 13,\n",
       " 7: 20,\n",
       " 9: 26,\n",
       " 11: 33,\n",
       " 13: 39,\n",
       " 15: 45,\n",
       " 17: 52,\n",
       " 19: 58,\n",
       " 21: 64,\n",
       " 23: 71,\n",
       " 25: 77,\n",
       " 27: 84,\n",
       " 29: 90,\n",
       " 31: 96,\n",
       " 33: 103,\n",
       " 35: 109,\n",
       " 37: 116,\n",
       " 39: 122,\n",
       " 41: 128,\n",
       " 43: 135,\n",
       " 45: 141,\n",
       " 47: 147,\n",
       " 49: 154}"
      ]
     },
     "execution_count": 4,
     "metadata": {},
     "output_type": "execute_result"
    }
   ],
   "source": [
    "def find_sequence_length_for_odd_x_greater_than_half(x):\n",
    "    # Ensure x is an odd number\n",
    "    if x % 2 == 0:\n",
    "        return None, \"x must be an odd number.\"\n",
    "    \n",
    "    # Initialize variables\n",
    "    total = 0\n",
    "    n = 0  # We will increment n starting from 0\n",
    "\n",
    "    # Loop to find when the sum of the sequence exceeds 1/2\n",
    "    while total <= 1:\n",
    "        total += 1 / (x + 2 * n)\n",
    "        n += 1  # Move to the next term in the sequence, keeping n odd\n",
    "\n",
    "    # Return the number of terms needed, adjusted for the loop increment\n",
    "    return n\n",
    "\n",
    "# Example: Calculate the length of the sequence for different odd x values, adjusting the range\n",
    "sequence_lengths_odd_x = {}\n",
    "for x in range(1, 50, 2):  # Test for x from 1 to 19, only odd numbers\n",
    "    sequence_lengths_odd_x[x] = find_sequence_length_for_odd_x_greater_than_half(x)\n",
    "\n",
    "sequence_lengths_odd_x\n"
   ]
  },
  {
   "cell_type": "code",
   "execution_count": null,
   "id": "9f0d098f-8857-4a5c-a67a-c8f2908cac9c",
   "metadata": {},
   "outputs": [],
   "source": []
  },
  {
   "cell_type": "code",
   "execution_count": null,
   "id": "a65028c2-e678-4a21-9e74-62fe059e30d3",
   "metadata": {},
   "outputs": [],
   "source": []
  }
 ],
 "metadata": {
  "kernelspec": {
   "display_name": "Python 3 (ipykernel)",
   "language": "python",
   "name": "python3"
  },
  "language_info": {
   "codemirror_mode": {
    "name": "ipython",
    "version": 3
   },
   "file_extension": ".py",
   "mimetype": "text/x-python",
   "name": "python",
   "nbconvert_exporter": "python",
   "pygments_lexer": "ipython3",
   "version": "3.11.5"
  }
 },
 "nbformat": 4,
 "nbformat_minor": 5
}
