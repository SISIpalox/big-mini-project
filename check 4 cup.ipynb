{
 "cells": [
  {
   "cell_type": "code",
   "execution_count": 2,
   "id": "cad1b262-9d9f-4235-b280-cd799df7e073",
   "metadata": {
    "tags": []
   },
   "outputs": [
    {
     "data": {
      "text/plain": [
       "[0,\n",
       " 0.125,\n",
       " 0.1875,\n",
       " 0.21875,\n",
       " 0.234375,\n",
       " 0.2421875,\n",
       " 0.24609375,\n",
       " 0.248046875,\n",
       " 0.2490234375,\n",
       " 0.24951171875,\n",
       " 0.249755859375,\n",
       " 0.2498779296875,\n",
       " 0.24993896484375,\n",
       " 0.249969482421875,\n",
       " 0.2499847412109375,\n",
       " 0.24999237060546875,\n",
       " 0.24999618530273438,\n",
       " 0.2499980926513672,\n",
       " 0.2499990463256836,\n",
       " 0.2499995231628418,\n",
       " 0.2499997615814209,\n",
       " 0.24999988079071045,\n",
       " 0.24999994039535522,\n",
       " 0.2499999701976776,\n",
       " 0.2499999850988388,\n",
       " 0.2499999925494194,\n",
       " 0.2499999962747097,\n",
       " 0.24999999813735485,\n",
       " 0.24999999906867743,\n",
       " 0.2499999995343387,\n",
       " 0.24999999976716936,\n",
       " 0.24999999988358468,\n",
       " 0.24999999994179234,\n",
       " 0.24999999997089617,\n",
       " 0.24999999998544808,\n",
       " 0.24999999999272404,\n",
       " 0.24999999999636202,\n",
       " 0.249999999998181,\n",
       " 0.2499999999990905,\n",
       " 0.24999999999954525,\n",
       " 0.24999999999977263,\n",
       " 0.2499999999998863,\n",
       " 0.24999999999994316,\n",
       " 0.24999999999997158,\n",
       " 0.2499999999999858,\n",
       " 0.2499999999999929,\n",
       " 0.24999999999999645,\n",
       " 0.24999999999999822,\n",
       " 0.2499999999999991,\n",
       " 0.24999999999999956,\n",
       " 0.24999999999999978,\n",
       " 0.2499999999999999,\n",
       " 0.24999999999999994,\n",
       " 0.24999999999999997,\n",
       " 0.25,\n",
       " 0.25,\n",
       " 0.25,\n",
       " 0.25,\n",
       " 0.25,\n",
       " 0.25,\n",
       " 0.25]"
      ]
     },
     "execution_count": 2,
     "metadata": {},
     "output_type": "execute_result"
    }
   ],
   "source": [
    "# Define a function to calculate the sequence x(n+1) = (xn + 1/2)/2\n",
    "def calculate_sequence(n):\n",
    "    x = [0]  # Initial value x0 = 0\n",
    "\n",
    "    # Calculate the sequence up to xn\n",
    "    for i in range(n):\n",
    "        x_new = (x[-1] + 1/4) / 2\n",
    "        x.append(x_new)\n",
    "\n",
    "    return x\n",
    "\n",
    "# Calculate the sequence up to x60 as an example\n",
    "sequence_values = calculate_sequence(60)\n",
    "sequence_values\n"
   ]
  },
  {
   "cell_type": "code",
   "execution_count": null,
   "id": "196bfe90-1f79-4ec8-9697-a8109373b234",
   "metadata": {},
   "outputs": [],
   "source": []
  },
  {
   "cell_type": "code",
   "execution_count": null,
   "id": "27b68486-09b3-44a2-8eda-5aaaa1626e7e",
   "metadata": {},
   "outputs": [],
   "source": []
  }
 ],
 "metadata": {
  "kernelspec": {
   "display_name": "Python 3 (ipykernel)",
   "language": "python",
   "name": "python3"
  },
  "language_info": {
   "codemirror_mode": {
    "name": "ipython",
    "version": 3
   },
   "file_extension": ".py",
   "mimetype": "text/x-python",
   "name": "python",
   "nbconvert_exporter": "python",
   "pygments_lexer": "ipython3",
   "version": "3.11.5"
  }
 },
 "nbformat": 4,
 "nbformat_minor": 5
}
